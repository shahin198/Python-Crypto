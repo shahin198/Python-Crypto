{
 "cells": [
  {
   "cell_type": "code",
   "execution_count": 30,
   "metadata": {},
   "outputs": [
    {
     "name": "stdout",
     "output_type": "stream",
     "text": [
      "a151ceb1711aad529a7704248f03333990022ebbfa07a7f04c004d70c167919f\n",
      "cad4c5623efc0ae67dbe8274e7ffc184ca91df37a8e844624240f8eef1300ce7\n",
      "7d96fd40b2243f4fcac16110158c94e4b4083522d522a8a4439e2b008539c741\n",
      "b'\\xach \\xd1=a!\\xa8\\x1bR\\xbf\\xb3,\\x1e;\\x84\\x9f\\xe5T\\xba\\xf4z\\x99\\xbb\\x1e\\r\\xe2\\xc0\\xad\\x046\\xaf'\n",
      "ac6820d13d6121a81b52bfb32c1e3b849fe554baf47a99bb1e0de2c0ad0436af\n"
     ]
    }
   ],
   "source": [
    "from Cryptodome.Hash import SHA256\n",
    "\n",
    "hash_object = SHA256.new(data=b'First')\n",
    "print(hash_object.hexdigest())\n",
    "hash_object.update(b'Second')\n",
    "print(hash_object.hexdigest())\n",
    "hash_object.update(b'Third')\n",
    "print(hash_object.hexdigest())\n",
    "hash_object.update(b'SecondThird')\n",
    "print(hash_object.digest())\n",
    "print(hash_object.hexdigest())"
   ]
  },
  {
   "cell_type": "code",
   "execution_count": 34,
   "metadata": {},
   "outputs": [
    {
     "name": "stdout",
     "output_type": "stream",
     "text": [
      "{\"iv\": \"JAkWrF8CbKNeFT6wM/yRxQ==\", \"ciphertext\": \"9eK8c/hQb5QLgSedYh+Hgw==\"}\n",
      "The message was:  b'secret'\n"
     ]
    }
   ],
   "source": [
    "import json\n",
    "from base64 import b64encode,b64decode\n",
    "from Cryptodome.Cipher import AES\n",
    "from Cryptodome.Util.Padding import pad,unpad\n",
    "from Cryptodome.Random import get_random_bytes\n",
    "from Cryptodome.Hash import SHA256\n",
    "\n",
    "hash_object = SHA256.new(data=b'First')\n",
    "# print(hash_object.digest())\n",
    "data = b\"secret\"\n",
    "\n",
    "# key = get_random_bytes(32)\n",
    "key=hash_object.digest()\n",
    "cipher = AES.new(key, AES.MODE_CBC)\n",
    "# print(key)\n",
    "ct_bytes = cipher.encrypt(pad(data, AES.block_size))\n",
    "\n",
    "iv = b64encode(cipher.iv).decode('utf-8')\n",
    "\n",
    "ct = b64encode(ct_bytes).decode('utf-8')\n",
    "\n",
    "result = json.dumps({'iv':iv, 'ciphertext':ct})\n",
    "\n",
    "print(result)\n",
    "\n",
    "# We assume that the key was securely shared beforehand\n",
    "try:\n",
    "\n",
    "    b64 = json.loads(result)\n",
    "\n",
    "    iv = b64decode(b64['iv'])\n",
    "\n",
    "    ct = b64decode(b64['ciphertext'])\n",
    "\n",
    "    cipher = AES.new(key, AES.MODE_CBC, iv)\n",
    "\n",
    "    pt = unpad(cipher.decrypt(ct), AES.block_size)\n",
    "\n",
    "    print(\"The message was: \", pt)\n",
    "except:\n",
    "\n",
    "    print(\"Incorrect decryption\")"
   ]
  },
  {
   "cell_type": "code",
   "execution_count": null,
   "metadata": {},
   "outputs": [],
   "source": []
  }
 ],
 "metadata": {
  "kernelspec": {
   "display_name": "Python 3",
   "language": "python",
   "name": "python3"
  },
  "language_info": {
   "codemirror_mode": {
    "name": "ipython",
    "version": 3
   },
   "file_extension": ".py",
   "mimetype": "text/x-python",
   "name": "python",
   "nbconvert_exporter": "python",
   "pygments_lexer": "ipython3",
   "version": "3.5.2"
  }
 },
 "nbformat": 4,
 "nbformat_minor": 2
}
